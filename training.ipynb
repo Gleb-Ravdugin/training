{
  "metadata": {
    "ExecuteTimeLog": [
      {
        "duration": 386,
        "start_time": "2023-02-03T09:11:59.980Z"
      },
      {
        "duration": 53,
        "start_time": "2023-02-03T09:12:00.891Z"
      },
      {
        "duration": 47,
        "start_time": "2023-02-03T09:12:14.617Z"
      },
      {
        "duration": 48,
        "start_time": "2023-02-03T09:16:35.087Z"
      },
      {
        "duration": 42,
        "start_time": "2023-02-03T09:16:57.503Z"
      },
      {
        "duration": 52,
        "start_time": "2023-02-03T09:17:39.375Z"
      },
      {
        "duration": 76,
        "start_time": "2023-02-03T09:20:15.448Z"
      },
      {
        "duration": 179,
        "start_time": "2023-02-03T09:20:55.665Z"
      },
      {
        "duration": 49,
        "start_time": "2023-02-03T09:21:10.497Z"
      },
      {
        "duration": 65,
        "start_time": "2023-02-03T09:21:41.817Z"
      },
      {
        "duration": 9195,
        "start_time": "2023-02-03T09:22:12.838Z"
      },
      {
        "duration": 61,
        "start_time": "2023-02-03T09:22:42.953Z"
      },
      {
        "duration": 63,
        "start_time": "2023-02-03T09:23:12.185Z"
      },
      {
        "duration": 60,
        "start_time": "2023-02-03T09:23:19.473Z"
      },
      {
        "duration": 4,
        "start_time": "2023-02-03T10:09:52.804Z"
      },
      {
        "duration": 24,
        "start_time": "2023-02-03T10:09:58.621Z"
      },
      {
        "duration": 12,
        "start_time": "2023-02-03T10:10:15.839Z"
      },
      {
        "duration": 58,
        "start_time": "2023-02-03T10:10:22.453Z"
      },
      {
        "duration": 5,
        "start_time": "2023-02-03T10:10:25.262Z"
      },
      {
        "duration": 71,
        "start_time": "2023-02-03T10:10:30.015Z"
      },
      {
        "duration": 15,
        "start_time": "2023-02-03T10:10:33.322Z"
      },
      {
        "duration": 9,
        "start_time": "2023-02-03T10:12:24.701Z"
      },
      {
        "duration": 34,
        "start_time": "2023-02-03T10:12:34.431Z"
      },
      {
        "duration": 14,
        "start_time": "2023-02-03T10:14:42.581Z"
      },
      {
        "duration": 13,
        "start_time": "2023-02-03T10:14:50.719Z"
      },
      {
        "duration": 8,
        "start_time": "2023-02-03T10:15:02.999Z"
      },
      {
        "duration": 8,
        "start_time": "2023-02-03T10:15:15.464Z"
      },
      {
        "duration": 10,
        "start_time": "2023-02-03T11:13:01.841Z"
      },
      {
        "duration": 20,
        "start_time": "2023-02-03T11:13:06.997Z"
      },
      {
        "duration": 46,
        "start_time": "2023-02-03T11:15:35.741Z"
      },
      {
        "duration": 26,
        "start_time": "2023-02-03T11:15:44.514Z"
      },
      {
        "duration": 31,
        "start_time": "2023-02-03T11:15:52.645Z"
      },
      {
        "duration": 446,
        "start_time": "2023-02-04T10:01:29.018Z"
      },
      {
        "duration": 121,
        "start_time": "2023-02-04T10:01:31.032Z"
      },
      {
        "duration": 15,
        "start_time": "2023-02-04T10:01:33.903Z"
      },
      {
        "duration": 39,
        "start_time": "2023-02-04T10:01:36.799Z"
      },
      {
        "duration": 13,
        "start_time": "2023-02-04T10:02:08.735Z"
      },
      {
        "duration": 73,
        "start_time": "2023-02-04T10:12:09.019Z"
      },
      {
        "duration": 40,
        "start_time": "2023-02-04T10:12:16.474Z"
      },
      {
        "duration": 18,
        "start_time": "2023-02-04T10:12:36.643Z"
      },
      {
        "duration": 3,
        "start_time": "2023-02-04T10:12:42.317Z"
      },
      {
        "duration": 65,
        "start_time": "2023-02-04T10:12:42.322Z"
      },
      {
        "duration": 14,
        "start_time": "2023-02-04T10:12:42.388Z"
      },
      {
        "duration": 12,
        "start_time": "2023-02-04T10:12:42.403Z"
      },
      {
        "duration": 45,
        "start_time": "2023-02-04T10:12:42.417Z"
      },
      {
        "duration": 3,
        "start_time": "2023-02-04T10:16:15.484Z"
      },
      {
        "duration": 61,
        "start_time": "2023-02-04T10:16:15.489Z"
      },
      {
        "duration": 13,
        "start_time": "2023-02-04T10:16:15.552Z"
      },
      {
        "duration": 15,
        "start_time": "2023-02-04T10:16:15.567Z"
      },
      {
        "duration": 115,
        "start_time": "2023-02-04T10:16:15.584Z"
      },
      {
        "duration": 35,
        "start_time": "2023-02-04T10:16:34.319Z"
      },
      {
        "duration": 4,
        "start_time": "2023-02-04T10:20:00.622Z"
      },
      {
        "duration": 11,
        "start_time": "2023-02-04T10:20:37.300Z"
      },
      {
        "duration": 5,
        "start_time": "2023-02-04T10:23:48.485Z"
      },
      {
        "duration": 4,
        "start_time": "2023-02-04T10:24:20.262Z"
      },
      {
        "duration": 4,
        "start_time": "2023-02-04T10:24:38.120Z"
      },
      {
        "duration": 18,
        "start_time": "2023-02-04T10:24:44.880Z"
      },
      {
        "duration": 13,
        "start_time": "2023-02-04T10:25:33.574Z"
      },
      {
        "duration": 722,
        "start_time": "2023-02-04T10:27:49.572Z"
      },
      {
        "duration": 52,
        "start_time": "2023-02-04T10:38:21.303Z"
      },
      {
        "duration": 988,
        "start_time": "2023-02-04T10:42:00.052Z"
      },
      {
        "duration": 22,
        "start_time": "2023-02-04T10:42:07.939Z"
      },
      {
        "duration": 9,
        "start_time": "2023-02-04T10:53:18.674Z"
      },
      {
        "duration": 10,
        "start_time": "2023-02-04T10:53:22.773Z"
      },
      {
        "duration": 10,
        "start_time": "2023-02-04T10:53:27.236Z"
      },
      {
        "duration": 50,
        "start_time": "2023-02-04T10:53:37.669Z"
      },
      {
        "duration": 25,
        "start_time": "2023-02-04T10:53:41.836Z"
      },
      {
        "duration": 5,
        "start_time": "2023-02-04T10:57:16.405Z"
      },
      {
        "duration": 31,
        "start_time": "2023-02-04T11:00:32.972Z"
      },
      {
        "duration": 14,
        "start_time": "2023-02-04T11:04:52.296Z"
      },
      {
        "duration": 34,
        "start_time": "2023-02-04T11:04:57.048Z"
      },
      {
        "duration": 12,
        "start_time": "2023-02-04T11:09:47.479Z"
      },
      {
        "duration": 4,
        "start_time": "2023-02-04T11:10:08.563Z"
      },
      {
        "duration": 12,
        "start_time": "2023-02-04T11:10:15.250Z"
      },
      {
        "duration": 40,
        "start_time": "2023-02-04T11:10:21.304Z"
      },
      {
        "duration": 9,
        "start_time": "2023-02-04T11:16:20.016Z"
      },
      {
        "duration": 6,
        "start_time": "2023-02-04T11:16:35.811Z"
      },
      {
        "duration": 85,
        "start_time": "2023-02-04T11:23:47.364Z"
      },
      {
        "duration": 3,
        "start_time": "2023-02-04T11:23:55.565Z"
      },
      {
        "duration": 91,
        "start_time": "2023-02-04T11:23:59.453Z"
      },
      {
        "duration": 111,
        "start_time": "2023-02-04T11:24:23.030Z"
      },
      {
        "duration": 39,
        "start_time": "2023-02-04T11:24:42.406Z"
      },
      {
        "duration": 4,
        "start_time": "2023-02-04T11:32:33.828Z"
      },
      {
        "duration": 17,
        "start_time": "2023-02-04T11:55:41.684Z"
      },
      {
        "duration": 5380,
        "start_time": "2023-02-04T11:55:55.383Z"
      },
      {
        "duration": 5374,
        "start_time": "2023-02-04T12:00:31.766Z"
      },
      {
        "duration": 5336,
        "start_time": "2023-02-04T12:03:03.710Z"
      },
      {
        "duration": 3296,
        "start_time": "2023-02-04T12:04:26.193Z"
      },
      {
        "duration": 83,
        "start_time": "2023-02-04T12:12:05.217Z"
      },
      {
        "duration": 119,
        "start_time": "2023-02-04T12:12:11.354Z"
      },
      {
        "duration": 128,
        "start_time": "2023-02-04T12:12:24.179Z"
      },
      {
        "duration": 279266,
        "start_time": "2023-02-04T12:12:32.074Z"
      },
      {
        "duration": 486784,
        "start_time": "2023-02-04T12:19:18.162Z"
      },
      {
        "duration": 207738,
        "start_time": "2023-02-04T12:27:54.525Z"
      },
      {
        "duration": 18103,
        "start_time": "2023-02-04T12:39:04.641Z"
      },
      {
        "duration": 121446,
        "start_time": "2023-02-04T12:40:43.597Z"
      },
      {
        "duration": 18020,
        "start_time": "2023-02-04T12:43:10.329Z"
      },
      {
        "duration": 19,
        "start_time": "2023-02-04T12:43:53.411Z"
      },
      {
        "duration": 11,
        "start_time": "2023-02-04T12:44:23.259Z"
      },
      {
        "duration": 3,
        "start_time": "2023-02-04T12:44:29.292Z"
      },
      {
        "duration": 14,
        "start_time": "2023-02-04T12:44:34.817Z"
      },
      {
        "duration": 3446,
        "start_time": "2023-02-04T12:44:38.247Z"
      },
      {
        "duration": 3145,
        "start_time": "2023-02-04T12:45:53.209Z"
      },
      {
        "duration": 4007,
        "start_time": "2023-02-04T12:47:56.813Z"
      },
      {
        "duration": 668682,
        "start_time": "2023-02-04T12:48:37.013Z"
      },
      {
        "duration": 152,
        "start_time": "2023-02-04T12:59:54.904Z"
      },
      {
        "duration": 18686,
        "start_time": "2023-02-04T13:00:16.576Z"
      },
      {
        "duration": 15587,
        "start_time": "2023-02-04T13:15:18.874Z"
      },
      {
        "duration": 18026,
        "start_time": "2023-02-04T13:16:45.733Z"
      },
      {
        "duration": 15685,
        "start_time": "2023-02-04T13:18:08.661Z"
      },
      {
        "duration": 299,
        "start_time": "2023-02-04T13:27:39.693Z"
      },
      {
        "duration": 307,
        "start_time": "2023-02-04T13:28:04.754Z"
      },
      {
        "duration": 295,
        "start_time": "2023-02-04T13:28:12.431Z"
      },
      {
        "duration": 442,
        "start_time": "2023-02-04T13:34:40.672Z"
      },
      {
        "duration": 496,
        "start_time": "2023-02-04T13:35:34.122Z"
      },
      {
        "duration": 393,
        "start_time": "2023-02-04T13:45:00.453Z"
      },
      {
        "duration": 362,
        "start_time": "2023-02-04T13:46:20.597Z"
      },
      {
        "duration": 100,
        "start_time": "2023-02-04T13:47:06.300Z"
      },
      {
        "duration": 392,
        "start_time": "2023-02-04T13:47:11.952Z"
      },
      {
        "duration": 4,
        "start_time": "2023-02-04T13:50:40.331Z"
      },
      {
        "duration": 390,
        "start_time": "2023-02-04T13:51:47.270Z"
      },
      {
        "duration": 571,
        "start_time": "2023-02-04T13:53:58.619Z"
      },
      {
        "duration": 1090,
        "start_time": "2023-02-05T09:06:03.684Z"
      },
      {
        "duration": 202,
        "start_time": "2023-02-05T09:06:05.371Z"
      },
      {
        "duration": 17,
        "start_time": "2023-02-05T09:06:08.339Z"
      },
      {
        "duration": 12,
        "start_time": "2023-02-05T09:06:11.019Z"
      },
      {
        "duration": 35,
        "start_time": "2023-02-05T09:06:13.083Z"
      },
      {
        "duration": 13,
        "start_time": "2023-02-05T09:06:16.771Z"
      },
      {
        "duration": 308,
        "start_time": "2023-02-05T09:06:19.450Z"
      },
      {
        "duration": 4,
        "start_time": "2023-02-05T09:07:37.572Z"
      },
      {
        "duration": 62,
        "start_time": "2023-02-05T09:07:39.355Z"
      },
      {
        "duration": 13,
        "start_time": "2023-02-05T09:07:42.060Z"
      },
      {
        "duration": 16,
        "start_time": "2023-02-05T09:07:45.059Z"
      },
      {
        "duration": 37,
        "start_time": "2023-02-05T09:07:47.651Z"
      },
      {
        "duration": 13,
        "start_time": "2023-02-05T09:07:51.579Z"
      },
      {
        "duration": 5,
        "start_time": "2023-02-05T09:07:54.004Z"
      },
      {
        "duration": 11,
        "start_time": "2023-02-05T09:08:11.292Z"
      },
      {
        "duration": 35,
        "start_time": "2023-02-05T09:09:22.601Z"
      },
      {
        "duration": 5,
        "start_time": "2023-02-05T09:10:04.906Z"
      },
      {
        "duration": 120,
        "start_time": "2023-02-05T09:10:04.913Z"
      },
      {
        "duration": 15,
        "start_time": "2023-02-05T09:10:05.035Z"
      },
      {
        "duration": 52,
        "start_time": "2023-02-05T09:10:05.053Z"
      },
      {
        "duration": 68,
        "start_time": "2023-02-05T09:10:05.106Z"
      },
      {
        "duration": 11,
        "start_time": "2023-02-05T09:10:05.175Z"
      },
      {
        "duration": 39,
        "start_time": "2023-02-05T09:10:05.187Z"
      },
      {
        "duration": 34,
        "start_time": "2023-02-05T09:10:05.227Z"
      },
      {
        "duration": 38,
        "start_time": "2023-02-05T09:10:05.263Z"
      },
      {
        "duration": 5,
        "start_time": "2023-02-05T09:10:05.302Z"
      },
      {
        "duration": 23,
        "start_time": "2023-02-05T09:10:05.308Z"
      },
      {
        "duration": 18314,
        "start_time": "2023-02-05T09:10:05.333Z"
      },
      {
        "duration": 2809,
        "start_time": "2023-02-05T09:10:23.649Z"
      },
      {
        "duration": 415546,
        "start_time": "2023-02-05T09:10:26.459Z"
      },
      {
        "duration": 18643,
        "start_time": "2023-02-05T09:17:22.007Z"
      },
      {
        "duration": 11,
        "start_time": "2023-02-05T09:17:40.743Z"
      },
      {
        "duration": 3310,
        "start_time": "2023-02-05T09:17:40.756Z"
      },
      {
        "duration": 563537,
        "start_time": "2023-02-05T09:17:44.068Z"
      },
      {
        "duration": 18748,
        "start_time": "2023-02-05T09:27:07.607Z"
      },
      {
        "duration": 530,
        "start_time": "2023-02-05T09:27:26.359Z"
      },
      {
        "duration": 353,
        "start_time": "2023-02-05T09:27:26.891Z"
      }
    ],
    "toc": {
      "base_numbering": 1,
      "nav_menu": {},
      "number_sections": true,
      "sideBar": true,
      "skip_h1_title": true,
      "title_cell": "Содержание",
      "title_sidebar": "Contents",
      "toc_cell": true,
      "toc_position": {
        "height": "calc(100% - 180px)",
        "left": "10px",
        "top": "150px",
        "width": "165px"
      },
      "toc_section_display": true,
      "toc_window_display": true
    },
    "kernelspec": {
      "name": "python",
      "display_name": "Python (Pyodide)",
      "language": "python"
    },
    "language_info": {
      "codemirror_mode": {
        "name": "python",
        "version": 3
      },
      "file_extension": ".py",
      "mimetype": "text/x-python",
      "name": "python",
      "nbconvert_exporter": "python",
      "pygments_lexer": "ipython3",
      "version": "3.8"
    }
  },
  "nbformat_minor": 4,
  "nbformat": 4,
  "cells": [
    {
      "cell_type": "markdown",
      "source": "<h1>Содержание<span class=\"tocSkip\"></span></h1>\n<div class=\"toc\"><ul class=\"toc-item\"><li><span><a href=\"#Подготовка-данных\" data-toc-modified-id=\"Подготовка-данных-1\"><span class=\"toc-item-num\">1&nbsp;&nbsp;</span>Подготовка данных</a></span></li><li><span><a href=\"#Исследование-задачи\" data-toc-modified-id=\"Исследование-задачи-2\"><span class=\"toc-item-num\">2&nbsp;&nbsp;</span>Исследование задачи</a></span></li><li><span><a href=\"#Борьба-с-дисбалансом\" data-toc-modified-id=\"Борьба-с-дисбалансом-3\"><span class=\"toc-item-num\">3&nbsp;&nbsp;</span>Борьба с дисбалансом</a></span></li><li><span><a href=\"#Тестирование-модели\" data-toc-modified-id=\"Тестирование-модели-4\"><span class=\"toc-item-num\">4&nbsp;&nbsp;</span>Тестирование модели</a></span></li></ul></div>",
      "metadata": {
        "toc": true
      }
    },
    {
      "cell_type": "markdown",
      "source": "# Отток клиентов",
      "metadata": {}
    },
    {
      "cell_type": "markdown",
      "source": "Из «Бета-Банка» стали уходить клиенты. Каждый месяц. Немного, но заметно. Банковские маркетологи посчитали: сохранять текущих клиентов дешевле, чем привлекать новых.\n\nНужно спрогнозировать, уйдёт клиент из банка в ближайшее время или нет. Вам предоставлены исторические данные о поведении клиентов и расторжении договоров с банком. \n\nПостройте модель с предельно большим значением *F1*-меры. Чтобы сдать проект успешно, нужно довести метрику до 0.59. Проверьте *F1*-меру на тестовой выборке самостоятельно.\n\nДополнительно измеряйте *AUC-ROC*, сравнивайте её значение с *F1*-мерой.\n\nИсточник данных: [https://www.kaggle.com/barelydedicated/bank-customer-churn-modeling](https://www.kaggle.com/barelydedicated/bank-customer-churn-modeling)",
      "metadata": {}
    },
    {
      "cell_type": "markdown",
      "source": "## Подготовка данных",
      "metadata": {}
    },
    {
      "cell_type": "code",
      "source": "import pandas as pd\nimport numpy as np\nfrom sklearn.model_selection import train_test_split\nfrom sklearn.linear_model import LogisticRegression\nfrom sklearn.tree import DecisionTreeClassifier\nfrom sklearn.ensemble import RandomForestClassifier\nfrom sklearn.metrics import f1_score, roc_auc_score\nfrom sklearn.preprocessing import StandardScaler\nfrom sklearn.dummy import DummyClassifier \nfrom sklearn.utils import shuffle",
      "metadata": {},
      "execution_count": 17,
      "outputs": []
    },
    {
      "cell_type": "markdown",
      "source": "Открыл и изучил информацию о данных. Все столбцы в корректном формате и без пропусков за исключением столбца Tenure.",
      "metadata": {}
    },
    {
      "cell_type": "code",
      "source": "data = pd.read_csv('/datasets/Churn.csv')\ndata.info()\ndisplay(data.head(10))",
      "metadata": {},
      "execution_count": 18,
      "outputs": [
        {
          "name": "stdout",
          "output_type": "stream",
          "text": "<class 'pandas.core.frame.DataFrame'>\n\nRangeIndex: 10000 entries, 0 to 9999\n\nData columns (total 14 columns):\n\n #   Column           Non-Null Count  Dtype  \n\n---  ------           --------------  -----  \n\n 0   RowNumber        10000 non-null  int64  \n\n 1   CustomerId       10000 non-null  int64  \n\n 2   Surname          10000 non-null  object \n\n 3   CreditScore      10000 non-null  int64  \n\n 4   Geography        10000 non-null  object \n\n 5   Gender           10000 non-null  object \n\n 6   Age              10000 non-null  int64  \n\n 7   Tenure           9091 non-null   float64\n\n 8   Balance          10000 non-null  float64\n\n 9   NumOfProducts    10000 non-null  int64  \n\n 10  HasCrCard        10000 non-null  int64  \n\n 11  IsActiveMember   10000 non-null  int64  \n\n 12  EstimatedSalary  10000 non-null  float64\n\n 13  Exited           10000 non-null  int64  \n\ndtypes: float64(3), int64(8), object(3)\n\nmemory usage: 1.1+ MB\n"
        },
        {
          "output_type": "display_data",
          "data": {
            "text/html": [
              "<div>\n",
              "<style scoped>\n",
              "    .dataframe tbody tr th:only-of-type {\n",
              "        vertical-align: middle;\n",
              "    }\n",
              "\n",
              "    .dataframe tbody tr th {\n",
              "        vertical-align: top;\n",
              "    }\n",
              "\n",
              "    .dataframe thead th {\n",
              "        text-align: right;\n",
              "    }\n",
              "</style>\n",
              "<table border=\"1\" class=\"dataframe\">\n",
              "  <thead>\n",
              "    <tr style=\"text-align: right;\">\n",
              "      <th></th>\n",
              "      <th>RowNumber</th>\n",
              "      <th>CustomerId</th>\n",
              "      <th>Surname</th>\n",
              "      <th>CreditScore</th>\n",
              "      <th>Geography</th>\n",
              "      <th>Gender</th>\n",
              "      <th>Age</th>\n",
              "      <th>Tenure</th>\n",
              "      <th>Balance</th>\n",
              "      <th>NumOfProducts</th>\n",
              "      <th>HasCrCard</th>\n",
              "      <th>IsActiveMember</th>\n",
              "      <th>EstimatedSalary</th>\n",
              "      <th>Exited</th>\n",
              "    </tr>\n",
              "  </thead>\n",
              "  <tbody>\n",
              "    <tr>\n",
              "      <th>0</th>\n",
              "      <td>1</td>\n",
              "      <td>15634602</td>\n",
              "      <td>Hargrave</td>\n",
              "      <td>619</td>\n",
              "      <td>France</td>\n",
              "      <td>Female</td>\n",
              "      <td>42</td>\n",
              "      <td>2.0</td>\n",
              "      <td>0.00</td>\n",
              "      <td>1</td>\n",
              "      <td>1</td>\n",
              "      <td>1</td>\n",
              "      <td>101348.88</td>\n",
              "      <td>1</td>\n",
              "    </tr>\n",
              "    <tr>\n",
              "      <th>1</th>\n",
              "      <td>2</td>\n",
              "      <td>15647311</td>\n",
              "      <td>Hill</td>\n",
              "      <td>608</td>\n",
              "      <td>Spain</td>\n",
              "      <td>Female</td>\n",
              "      <td>41</td>\n",
              "      <td>1.0</td>\n",
              "      <td>83807.86</td>\n",
              "      <td>1</td>\n",
              "      <td>0</td>\n",
              "      <td>1</td>\n",
              "      <td>112542.58</td>\n",
              "      <td>0</td>\n",
              "    </tr>\n",
              "    <tr>\n",
              "      <th>2</th>\n",
              "      <td>3</td>\n",
              "      <td>15619304</td>\n",
              "      <td>Onio</td>\n",
              "      <td>502</td>\n",
              "      <td>France</td>\n",
              "      <td>Female</td>\n",
              "      <td>42</td>\n",
              "      <td>8.0</td>\n",
              "      <td>159660.80</td>\n",
              "      <td>3</td>\n",
              "      <td>1</td>\n",
              "      <td>0</td>\n",
              "      <td>113931.57</td>\n",
              "      <td>1</td>\n",
              "    </tr>\n",
              "    <tr>\n",
              "      <th>3</th>\n",
              "      <td>4</td>\n",
              "      <td>15701354</td>\n",
              "      <td>Boni</td>\n",
              "      <td>699</td>\n",
              "      <td>France</td>\n",
              "      <td>Female</td>\n",
              "      <td>39</td>\n",
              "      <td>1.0</td>\n",
              "      <td>0.00</td>\n",
              "      <td>2</td>\n",
              "      <td>0</td>\n",
              "      <td>0</td>\n",
              "      <td>93826.63</td>\n",
              "      <td>0</td>\n",
              "    </tr>\n",
              "    <tr>\n",
              "      <th>4</th>\n",
              "      <td>5</td>\n",
              "      <td>15737888</td>\n",
              "      <td>Mitchell</td>\n",
              "      <td>850</td>\n",
              "      <td>Spain</td>\n",
              "      <td>Female</td>\n",
              "      <td>43</td>\n",
              "      <td>2.0</td>\n",
              "      <td>125510.82</td>\n",
              "      <td>1</td>\n",
              "      <td>1</td>\n",
              "      <td>1</td>\n",
              "      <td>79084.10</td>\n",
              "      <td>0</td>\n",
              "    </tr>\n",
              "    <tr>\n",
              "      <th>5</th>\n",
              "      <td>6</td>\n",
              "      <td>15574012</td>\n",
              "      <td>Chu</td>\n",
              "      <td>645</td>\n",
              "      <td>Spain</td>\n",
              "      <td>Male</td>\n",
              "      <td>44</td>\n",
              "      <td>8.0</td>\n",
              "      <td>113755.78</td>\n",
              "      <td>2</td>\n",
              "      <td>1</td>\n",
              "      <td>0</td>\n",
              "      <td>149756.71</td>\n",
              "      <td>1</td>\n",
              "    </tr>\n",
              "    <tr>\n",
              "      <th>6</th>\n",
              "      <td>7</td>\n",
              "      <td>15592531</td>\n",
              "      <td>Bartlett</td>\n",
              "      <td>822</td>\n",
              "      <td>France</td>\n",
              "      <td>Male</td>\n",
              "      <td>50</td>\n",
              "      <td>7.0</td>\n",
              "      <td>0.00</td>\n",
              "      <td>2</td>\n",
              "      <td>1</td>\n",
              "      <td>1</td>\n",
              "      <td>10062.80</td>\n",
              "      <td>0</td>\n",
              "    </tr>\n",
              "    <tr>\n",
              "      <th>7</th>\n",
              "      <td>8</td>\n",
              "      <td>15656148</td>\n",
              "      <td>Obinna</td>\n",
              "      <td>376</td>\n",
              "      <td>Germany</td>\n",
              "      <td>Female</td>\n",
              "      <td>29</td>\n",
              "      <td>4.0</td>\n",
              "      <td>115046.74</td>\n",
              "      <td>4</td>\n",
              "      <td>1</td>\n",
              "      <td>0</td>\n",
              "      <td>119346.88</td>\n",
              "      <td>1</td>\n",
              "    </tr>\n",
              "    <tr>\n",
              "      <th>8</th>\n",
              "      <td>9</td>\n",
              "      <td>15792365</td>\n",
              "      <td>He</td>\n",
              "      <td>501</td>\n",
              "      <td>France</td>\n",
              "      <td>Male</td>\n",
              "      <td>44</td>\n",
              "      <td>4.0</td>\n",
              "      <td>142051.07</td>\n",
              "      <td>2</td>\n",
              "      <td>0</td>\n",
              "      <td>1</td>\n",
              "      <td>74940.50</td>\n",
              "      <td>0</td>\n",
              "    </tr>\n",
              "    <tr>\n",
              "      <th>9</th>\n",
              "      <td>10</td>\n",
              "      <td>15592389</td>\n",
              "      <td>H?</td>\n",
              "      <td>684</td>\n",
              "      <td>France</td>\n",
              "      <td>Male</td>\n",
              "      <td>27</td>\n",
              "      <td>2.0</td>\n",
              "      <td>134603.88</td>\n",
              "      <td>1</td>\n",
              "      <td>1</td>\n",
              "      <td>1</td>\n",
              "      <td>71725.73</td>\n",
              "      <td>0</td>\n",
              "    </tr>\n",
              "  </tbody>\n",
              "</table>\n",
              "</div>"
            ],
            "text/plain": [
              "   RowNumber  CustomerId   Surname  CreditScore Geography  Gender  Age  \\\n",
              "0          1    15634602  Hargrave          619    France  Female   42   \n",
              "1          2    15647311      Hill          608     Spain  Female   41   \n",
              "2          3    15619304      Onio          502    France  Female   42   \n",
              "3          4    15701354      Boni          699    France  Female   39   \n",
              "4          5    15737888  Mitchell          850     Spain  Female   43   \n",
              "5          6    15574012       Chu          645     Spain    Male   44   \n",
              "6          7    15592531  Bartlett          822    France    Male   50   \n",
              "7          8    15656148    Obinna          376   Germany  Female   29   \n",
              "8          9    15792365        He          501    France    Male   44   \n",
              "9         10    15592389        H?          684    France    Male   27   \n",
              "\n",
              "   Tenure    Balance  NumOfProducts  HasCrCard  IsActiveMember  \\\n",
              "0     2.0       0.00              1          1               1   \n",
              "1     1.0   83807.86              1          0               1   \n",
              "2     8.0  159660.80              3          1               0   \n",
              "3     1.0       0.00              2          0               0   \n",
              "4     2.0  125510.82              1          1               1   \n",
              "5     8.0  113755.78              2          1               0   \n",
              "6     7.0       0.00              2          1               1   \n",
              "7     4.0  115046.74              4          1               0   \n",
              "8     4.0  142051.07              2          0               1   \n",
              "9     2.0  134603.88              1          1               1   \n",
              "\n",
              "   EstimatedSalary  Exited  \n",
              "0        101348.88       1  \n",
              "1        112542.58       0  \n",
              "2        113931.57       1  \n",
              "3         93826.63       0  \n",
              "4         79084.10       0  \n",
              "5        149756.71       1  \n",
              "6         10062.80       0  \n",
              "7        119346.88       1  \n",
              "8         74940.50       0  \n",
              "9         71725.73       0  "
            ]
          },
          "metadata": {}
        }
      ]
    },
    {
      "cell_type": "markdown",
      "source": "Избавился от столбца с нумерацией - он не дает никакой полезной информации и может негативно повлиять на точность предсказаний.",
      "metadata": {}
    },
    {
      "cell_type": "code",
      "source": "data = data.drop('RowNumber', axis = 1)\ndata.info()",
      "metadata": {},
      "execution_count": 19,
      "outputs": [
        {
          "name": "stdout",
          "output_type": "stream",
          "text": "<class 'pandas.core.frame.DataFrame'>\n\nRangeIndex: 10000 entries, 0 to 9999\n\nData columns (total 13 columns):\n\n #   Column           Non-Null Count  Dtype  \n\n---  ------           --------------  -----  \n\n 0   CustomerId       10000 non-null  int64  \n\n 1   Surname          10000 non-null  object \n\n 2   CreditScore      10000 non-null  int64  \n\n 3   Geography        10000 non-null  object \n\n 4   Gender           10000 non-null  object \n\n 5   Age              10000 non-null  int64  \n\n 6   Tenure           9091 non-null   float64\n\n 7   Balance          10000 non-null  float64\n\n 8   NumOfProducts    10000 non-null  int64  \n\n 9   HasCrCard        10000 non-null  int64  \n\n 10  IsActiveMember   10000 non-null  int64  \n\n 11  EstimatedSalary  10000 non-null  float64\n\n 12  Exited           10000 non-null  int64  \n\ndtypes: float64(3), int64(7), object(3)\n\nmemory usage: 1015.8+ KB\n"
        }
      ]
    },
    {
      "cell_type": "markdown",
      "source": "Проверил данные на дубликаты, также проверил нет ли общих ID: возможно клиент закрывал счет и снова открыл в банке, в данных он мог бы повторяться.",
      "metadata": {}
    },
    {
      "cell_type": "code",
      "source": "display(data.duplicated().sum())\ndisplay(data['CustomerId'].duplicated().sum())",
      "metadata": {
        "scrolled": true
      },
      "execution_count": 20,
      "outputs": [
        {
          "output_type": "display_data",
          "data": {
            "text/plain": [
              "0"
            ]
          },
          "metadata": {}
        },
        {
          "output_type": "display_data",
          "data": {
            "text/plain": [
              "0"
            ]
          },
          "metadata": {}
        }
      ]
    },
    {
      "cell_type": "markdown",
      "source": "Неясно что делать с пропусками в данных. Это могут быть новые клиенты, а может быть простой ошибкой данных. Количество лет пользования банком может быть существенным признаком для предсказаний. Придется избавиться от этих строк.",
      "metadata": {}
    },
    {
      "cell_type": "code",
      "source": "display(data[data['Tenure'].isna()])\ndisplay(data['Tenure'].unique())\ndata = data.dropna()\ndata.info()",
      "metadata": {},
      "execution_count": 21,
      "outputs": [
        {
          "output_type": "display_data",
          "data": {
            "text/html": [
              "<div>\n",
              "<style scoped>\n",
              "    .dataframe tbody tr th:only-of-type {\n",
              "        vertical-align: middle;\n",
              "    }\n",
              "\n",
              "    .dataframe tbody tr th {\n",
              "        vertical-align: top;\n",
              "    }\n",
              "\n",
              "    .dataframe thead th {\n",
              "        text-align: right;\n",
              "    }\n",
              "</style>\n",
              "<table border=\"1\" class=\"dataframe\">\n",
              "  <thead>\n",
              "    <tr style=\"text-align: right;\">\n",
              "      <th></th>\n",
              "      <th>CustomerId</th>\n",
              "      <th>Surname</th>\n",
              "      <th>CreditScore</th>\n",
              "      <th>Geography</th>\n",
              "      <th>Gender</th>\n",
              "      <th>Age</th>\n",
              "      <th>Tenure</th>\n",
              "      <th>Balance</th>\n",
              "      <th>NumOfProducts</th>\n",
              "      <th>HasCrCard</th>\n",
              "      <th>IsActiveMember</th>\n",
              "      <th>EstimatedSalary</th>\n",
              "      <th>Exited</th>\n",
              "    </tr>\n",
              "  </thead>\n",
              "  <tbody>\n",
              "    <tr>\n",
              "      <th>30</th>\n",
              "      <td>15589475</td>\n",
              "      <td>Azikiwe</td>\n",
              "      <td>591</td>\n",
              "      <td>Spain</td>\n",
              "      <td>Female</td>\n",
              "      <td>39</td>\n",
              "      <td>NaN</td>\n",
              "      <td>0.00</td>\n",
              "      <td>3</td>\n",
              "      <td>1</td>\n",
              "      <td>0</td>\n",
              "      <td>140469.38</td>\n",
              "      <td>1</td>\n",
              "    </tr>\n",
              "    <tr>\n",
              "      <th>48</th>\n",
              "      <td>15766205</td>\n",
              "      <td>Yin</td>\n",
              "      <td>550</td>\n",
              "      <td>Germany</td>\n",
              "      <td>Male</td>\n",
              "      <td>38</td>\n",
              "      <td>NaN</td>\n",
              "      <td>103391.38</td>\n",
              "      <td>1</td>\n",
              "      <td>0</td>\n",
              "      <td>1</td>\n",
              "      <td>90878.13</td>\n",
              "      <td>0</td>\n",
              "    </tr>\n",
              "    <tr>\n",
              "      <th>51</th>\n",
              "      <td>15768193</td>\n",
              "      <td>Trevisani</td>\n",
              "      <td>585</td>\n",
              "      <td>Germany</td>\n",
              "      <td>Male</td>\n",
              "      <td>36</td>\n",
              "      <td>NaN</td>\n",
              "      <td>146050.97</td>\n",
              "      <td>2</td>\n",
              "      <td>0</td>\n",
              "      <td>0</td>\n",
              "      <td>86424.57</td>\n",
              "      <td>0</td>\n",
              "    </tr>\n",
              "    <tr>\n",
              "      <th>53</th>\n",
              "      <td>15702298</td>\n",
              "      <td>Parkhill</td>\n",
              "      <td>655</td>\n",
              "      <td>Germany</td>\n",
              "      <td>Male</td>\n",
              "      <td>41</td>\n",
              "      <td>NaN</td>\n",
              "      <td>125561.97</td>\n",
              "      <td>1</td>\n",
              "      <td>0</td>\n",
              "      <td>0</td>\n",
              "      <td>164040.94</td>\n",
              "      <td>1</td>\n",
              "    </tr>\n",
              "    <tr>\n",
              "      <th>60</th>\n",
              "      <td>15651280</td>\n",
              "      <td>Hunter</td>\n",
              "      <td>742</td>\n",
              "      <td>Germany</td>\n",
              "      <td>Male</td>\n",
              "      <td>35</td>\n",
              "      <td>NaN</td>\n",
              "      <td>136857.00</td>\n",
              "      <td>1</td>\n",
              "      <td>0</td>\n",
              "      <td>0</td>\n",
              "      <td>84509.57</td>\n",
              "      <td>0</td>\n",
              "    </tr>\n",
              "    <tr>\n",
              "      <th>...</th>\n",
              "      <td>...</td>\n",
              "      <td>...</td>\n",
              "      <td>...</td>\n",
              "      <td>...</td>\n",
              "      <td>...</td>\n",
              "      <td>...</td>\n",
              "      <td>...</td>\n",
              "      <td>...</td>\n",
              "      <td>...</td>\n",
              "      <td>...</td>\n",
              "      <td>...</td>\n",
              "      <td>...</td>\n",
              "      <td>...</td>\n",
              "    </tr>\n",
              "    <tr>\n",
              "      <th>9944</th>\n",
              "      <td>15703923</td>\n",
              "      <td>Cameron</td>\n",
              "      <td>744</td>\n",
              "      <td>Germany</td>\n",
              "      <td>Male</td>\n",
              "      <td>41</td>\n",
              "      <td>NaN</td>\n",
              "      <td>190409.34</td>\n",
              "      <td>2</td>\n",
              "      <td>1</td>\n",
              "      <td>1</td>\n",
              "      <td>138361.48</td>\n",
              "      <td>0</td>\n",
              "    </tr>\n",
              "    <tr>\n",
              "      <th>9956</th>\n",
              "      <td>15707861</td>\n",
              "      <td>Nucci</td>\n",
              "      <td>520</td>\n",
              "      <td>France</td>\n",
              "      <td>Female</td>\n",
              "      <td>46</td>\n",
              "      <td>NaN</td>\n",
              "      <td>85216.61</td>\n",
              "      <td>1</td>\n",
              "      <td>1</td>\n",
              "      <td>0</td>\n",
              "      <td>117369.52</td>\n",
              "      <td>1</td>\n",
              "    </tr>\n",
              "    <tr>\n",
              "      <th>9964</th>\n",
              "      <td>15642785</td>\n",
              "      <td>Douglas</td>\n",
              "      <td>479</td>\n",
              "      <td>France</td>\n",
              "      <td>Male</td>\n",
              "      <td>34</td>\n",
              "      <td>NaN</td>\n",
              "      <td>117593.48</td>\n",
              "      <td>2</td>\n",
              "      <td>0</td>\n",
              "      <td>0</td>\n",
              "      <td>113308.29</td>\n",
              "      <td>0</td>\n",
              "    </tr>\n",
              "    <tr>\n",
              "      <th>9985</th>\n",
              "      <td>15586914</td>\n",
              "      <td>Nepean</td>\n",
              "      <td>659</td>\n",
              "      <td>France</td>\n",
              "      <td>Male</td>\n",
              "      <td>36</td>\n",
              "      <td>NaN</td>\n",
              "      <td>123841.49</td>\n",
              "      <td>2</td>\n",
              "      <td>1</td>\n",
              "      <td>0</td>\n",
              "      <td>96833.00</td>\n",
              "      <td>0</td>\n",
              "    </tr>\n",
              "    <tr>\n",
              "      <th>9999</th>\n",
              "      <td>15628319</td>\n",
              "      <td>Walker</td>\n",
              "      <td>792</td>\n",
              "      <td>France</td>\n",
              "      <td>Female</td>\n",
              "      <td>28</td>\n",
              "      <td>NaN</td>\n",
              "      <td>130142.79</td>\n",
              "      <td>1</td>\n",
              "      <td>1</td>\n",
              "      <td>0</td>\n",
              "      <td>38190.78</td>\n",
              "      <td>0</td>\n",
              "    </tr>\n",
              "  </tbody>\n",
              "</table>\n",
              "<p>909 rows × 13 columns</p>\n",
              "</div>"
            ],
            "text/plain": [
              "      CustomerId    Surname  CreditScore Geography  Gender  Age  Tenure  \\\n",
              "30      15589475    Azikiwe          591     Spain  Female   39     NaN   \n",
              "48      15766205        Yin          550   Germany    Male   38     NaN   \n",
              "51      15768193  Trevisani          585   Germany    Male   36     NaN   \n",
              "53      15702298   Parkhill          655   Germany    Male   41     NaN   \n",
              "60      15651280     Hunter          742   Germany    Male   35     NaN   \n",
              "...          ...        ...          ...       ...     ...  ...     ...   \n",
              "9944    15703923    Cameron          744   Germany    Male   41     NaN   \n",
              "9956    15707861      Nucci          520    France  Female   46     NaN   \n",
              "9964    15642785    Douglas          479    France    Male   34     NaN   \n",
              "9985    15586914     Nepean          659    France    Male   36     NaN   \n",
              "9999    15628319     Walker          792    France  Female   28     NaN   \n",
              "\n",
              "        Balance  NumOfProducts  HasCrCard  IsActiveMember  EstimatedSalary  \\\n",
              "30         0.00              3          1               0        140469.38   \n",
              "48    103391.38              1          0               1         90878.13   \n",
              "51    146050.97              2          0               0         86424.57   \n",
              "53    125561.97              1          0               0        164040.94   \n",
              "60    136857.00              1          0               0         84509.57   \n",
              "...         ...            ...        ...             ...              ...   \n",
              "9944  190409.34              2          1               1        138361.48   \n",
              "9956   85216.61              1          1               0        117369.52   \n",
              "9964  117593.48              2          0               0        113308.29   \n",
              "9985  123841.49              2          1               0         96833.00   \n",
              "9999  130142.79              1          1               0         38190.78   \n",
              "\n",
              "      Exited  \n",
              "30         1  \n",
              "48         0  \n",
              "51         0  \n",
              "53         1  \n",
              "60         0  \n",
              "...      ...  \n",
              "9944       0  \n",
              "9956       1  \n",
              "9964       0  \n",
              "9985       0  \n",
              "9999       0  \n",
              "\n",
              "[909 rows x 13 columns]"
            ]
          },
          "metadata": {}
        },
        {
          "output_type": "display_data",
          "data": {
            "text/plain": [
              "array([ 2.,  1.,  8.,  7.,  4.,  6.,  3., 10.,  5.,  9.,  0., nan])"
            ]
          },
          "metadata": {}
        },
        {
          "name": "stdout",
          "output_type": "stream",
          "text": "<class 'pandas.core.frame.DataFrame'>\n\nInt64Index: 9091 entries, 0 to 9998\n\nData columns (total 13 columns):\n\n #   Column           Non-Null Count  Dtype  \n\n---  ------           --------------  -----  \n\n 0   CustomerId       9091 non-null   int64  \n\n 1   Surname          9091 non-null   object \n\n 2   CreditScore      9091 non-null   int64  \n\n 3   Geography        9091 non-null   object \n\n 4   Gender           9091 non-null   object \n\n 5   Age              9091 non-null   int64  \n\n 6   Tenure           9091 non-null   float64\n\n 7   Balance          9091 non-null   float64\n\n 8   NumOfProducts    9091 non-null   int64  \n\n 9   HasCrCard        9091 non-null   int64  \n\n 10  IsActiveMember   9091 non-null   int64  \n\n 11  EstimatedSalary  9091 non-null   float64\n\n 12  Exited           9091 non-null   int64  \n\ndtypes: float64(3), int64(7), object(3)\n\nmemory usage: 994.3+ KB\n"
        }
      ]
    },
    {
      "cell_type": "markdown",
      "source": "Судя по уникальным значениям столбца Tenure, лучше изменить в нем тип данных.",
      "metadata": {}
    },
    {
      "cell_type": "code",
      "source": "data['Tenure'] = data.loc[:, 'Tenure'].astype('int')\ndata.info()",
      "metadata": {},
      "execution_count": 22,
      "outputs": [
        {
          "name": "stdout",
          "output_type": "stream",
          "text": "<class 'pandas.core.frame.DataFrame'>\n\nInt64Index: 9091 entries, 0 to 9998\n\nData columns (total 13 columns):\n\n #   Column           Non-Null Count  Dtype  \n\n---  ------           --------------  -----  \n\n 0   CustomerId       9091 non-null   int64  \n\n 1   Surname          9091 non-null   object \n\n 2   CreditScore      9091 non-null   int64  \n\n 3   Geography        9091 non-null   object \n\n 4   Gender           9091 non-null   object \n\n 5   Age              9091 non-null   int64  \n\n 6   Tenure           9091 non-null   int64  \n\n 7   Balance          9091 non-null   float64\n\n 8   NumOfProducts    9091 non-null   int64  \n\n 9   HasCrCard        9091 non-null   int64  \n\n 10  IsActiveMember   9091 non-null   int64  \n\n 11  EstimatedSalary  9091 non-null   float64\n\n 12  Exited           9091 non-null   int64  \n\ndtypes: float64(2), int64(8), object(3)\n\nmemory usage: 994.3+ KB\n"
        }
      ]
    },
    {
      "cell_type": "markdown",
      "source": "Так как на данных мы планируем обучать модель, стоит избавиться от не влияющих на целевой признак параметров, чтобы не путать модель.",
      "metadata": {}
    },
    {
      "cell_type": "code",
      "source": "data = data.drop(['Surname', 'CustomerId'], axis = 1)",
      "metadata": {},
      "execution_count": 23,
      "outputs": []
    },
    {
      "cell_type": "markdown",
      "source": "## Исследование задачи",
      "metadata": {}
    },
    {
      "cell_type": "markdown",
      "source": "Разбил данные на три выборки: обучающую, валидационную и тестовую.",
      "metadata": {}
    },
    {
      "cell_type": "code",
      "source": "features = data.drop(['Exited'], axis = 1)\ntarget = data['Exited']\nfeatures_train, features_test_valid, target_train, target_test_valid = train_test_split(features, target, test_size = 0.4, random_state = 12345, stratify = data['Exited'])\nfeatures_valid, features_test, target_valid, target_test =train_test_split(features_test_valid, target_test_valid, test_size = 0.5, random_state = 12345, stratify = target_test_valid)",
      "metadata": {},
      "execution_count": 24,
      "outputs": []
    },
    {
      "cell_type": "markdown",
      "source": "Преобразовал категориальные признаки методом OHE.",
      "metadata": {}
    },
    {
      "cell_type": "code",
      "source": "features_train = pd.get_dummies(features_train, drop_first=True)\nfeatures_valid = pd.get_dummies(features_valid, drop_first=True)\nfeatures_test = pd.get_dummies(features_test, drop_first=True)\nfeatures_train.info()\nfeatures_train.head()",
      "metadata": {},
      "execution_count": 25,
      "outputs": [
        {
          "name": "stdout",
          "output_type": "stream",
          "text": "<class 'pandas.core.frame.DataFrame'>\n\nInt64Index: 5454 entries, 9723 to 2671\n\nData columns (total 11 columns):\n\n #   Column             Non-Null Count  Dtype  \n\n---  ------             --------------  -----  \n\n 0   CreditScore        5454 non-null   int64  \n\n 1   Age                5454 non-null   int64  \n\n 2   Tenure             5454 non-null   int64  \n\n 3   Balance            5454 non-null   float64\n\n 4   NumOfProducts      5454 non-null   int64  \n\n 5   HasCrCard          5454 non-null   int64  \n\n 6   IsActiveMember     5454 non-null   int64  \n\n 7   EstimatedSalary    5454 non-null   float64\n\n 8   Geography_Germany  5454 non-null   uint8  \n\n 9   Geography_Spain    5454 non-null   uint8  \n\n 10  Gender_Male        5454 non-null   uint8  \n\ndtypes: float64(2), int64(6), uint8(3)\n\nmemory usage: 399.5 KB\n"
        },
        {
          "execution_count": 25,
          "output_type": "execute_result",
          "data": {
            "text/html": [
              "<div>\n",
              "<style scoped>\n",
              "    .dataframe tbody tr th:only-of-type {\n",
              "        vertical-align: middle;\n",
              "    }\n",
              "\n",
              "    .dataframe tbody tr th {\n",
              "        vertical-align: top;\n",
              "    }\n",
              "\n",
              "    .dataframe thead th {\n",
              "        text-align: right;\n",
              "    }\n",
              "</style>\n",
              "<table border=\"1\" class=\"dataframe\">\n",
              "  <thead>\n",
              "    <tr style=\"text-align: right;\">\n",
              "      <th></th>\n",
              "      <th>CreditScore</th>\n",
              "      <th>Age</th>\n",
              "      <th>Tenure</th>\n",
              "      <th>Balance</th>\n",
              "      <th>NumOfProducts</th>\n",
              "      <th>HasCrCard</th>\n",
              "      <th>IsActiveMember</th>\n",
              "      <th>EstimatedSalary</th>\n",
              "      <th>Geography_Germany</th>\n",
              "      <th>Geography_Spain</th>\n",
              "      <th>Gender_Male</th>\n",
              "    </tr>\n",
              "  </thead>\n",
              "  <tbody>\n",
              "    <tr>\n",
              "      <th>9723</th>\n",
              "      <td>526</td>\n",
              "      <td>32</td>\n",
              "      <td>7</td>\n",
              "      <td>125540.05</td>\n",
              "      <td>1</td>\n",
              "      <td>0</td>\n",
              "      <td>0</td>\n",
              "      <td>86786.41</td>\n",
              "      <td>0</td>\n",
              "      <td>0</td>\n",
              "      <td>1</td>\n",
              "    </tr>\n",
              "    <tr>\n",
              "      <th>1224</th>\n",
              "      <td>500</td>\n",
              "      <td>47</td>\n",
              "      <td>8</td>\n",
              "      <td>128486.11</td>\n",
              "      <td>1</td>\n",
              "      <td>1</td>\n",
              "      <td>0</td>\n",
              "      <td>179227.12</td>\n",
              "      <td>0</td>\n",
              "      <td>1</td>\n",
              "      <td>0</td>\n",
              "    </tr>\n",
              "    <tr>\n",
              "      <th>8377</th>\n",
              "      <td>802</td>\n",
              "      <td>40</td>\n",
              "      <td>4</td>\n",
              "      <td>0.00</td>\n",
              "      <td>2</td>\n",
              "      <td>1</td>\n",
              "      <td>1</td>\n",
              "      <td>81908.09</td>\n",
              "      <td>0</td>\n",
              "      <td>1</td>\n",
              "      <td>1</td>\n",
              "    </tr>\n",
              "    <tr>\n",
              "      <th>8014</th>\n",
              "      <td>731</td>\n",
              "      <td>39</td>\n",
              "      <td>2</td>\n",
              "      <td>126816.18</td>\n",
              "      <td>1</td>\n",
              "      <td>1</td>\n",
              "      <td>1</td>\n",
              "      <td>74850.93</td>\n",
              "      <td>0</td>\n",
              "      <td>1</td>\n",
              "      <td>0</td>\n",
              "    </tr>\n",
              "    <tr>\n",
              "      <th>2491</th>\n",
              "      <td>612</td>\n",
              "      <td>26</td>\n",
              "      <td>4</td>\n",
              "      <td>0.00</td>\n",
              "      <td>2</td>\n",
              "      <td>1</td>\n",
              "      <td>1</td>\n",
              "      <td>179780.74</td>\n",
              "      <td>0</td>\n",
              "      <td>1</td>\n",
              "      <td>0</td>\n",
              "    </tr>\n",
              "  </tbody>\n",
              "</table>\n",
              "</div>"
            ],
            "text/plain": [
              "      CreditScore  Age  Tenure    Balance  NumOfProducts  HasCrCard  \\\n",
              "9723          526   32       7  125540.05              1          0   \n",
              "1224          500   47       8  128486.11              1          1   \n",
              "8377          802   40       4       0.00              2          1   \n",
              "8014          731   39       2  126816.18              1          1   \n",
              "2491          612   26       4       0.00              2          1   \n",
              "\n",
              "      IsActiveMember  EstimatedSalary  Geography_Germany  Geography_Spain  \\\n",
              "9723               0         86786.41                  0                0   \n",
              "1224               0        179227.12                  0                1   \n",
              "8377               1         81908.09                  0                1   \n",
              "8014               1         74850.93                  0                1   \n",
              "2491               1        179780.74                  0                1   \n",
              "\n",
              "      Gender_Male  \n",
              "9723            1  \n",
              "1224            0  \n",
              "8377            1  \n",
              "8014            0  \n",
              "2491            0  "
            ]
          },
          "metadata": {}
        }
      ]
    },
    {
      "cell_type": "markdown",
      "source": "Изучил баланс классов. Найден явный дисбаланс.",
      "metadata": {}
    },
    {
      "cell_type": "code",
      "source": "data['Exited'].value_counts()",
      "metadata": {},
      "execution_count": 26,
      "outputs": [
        {
          "execution_count": 26,
          "output_type": "execute_result",
          "data": {
            "text/plain": [
              "0    7237\n",
              "1    1854\n",
              "Name: Exited, dtype: int64"
            ]
          },
          "metadata": {}
        }
      ]
    },
    {
      "cell_type": "markdown",
      "source": "Стандартизировал данные для масштабирования",
      "metadata": {}
    },
    {
      "cell_type": "code",
      "source": "scaler = StandardScaler()\nscaler.fit(features_train)\nfeatures_train_scaled = scaler.transform(features_train)\nfeatures_valid_scaled = scaler.transform(features_valid)\nfeatures_test_scaled = scaler.transform(features_test)",
      "metadata": {},
      "execution_count": 27,
      "outputs": []
    },
    {
      "cell_type": "markdown",
      "source": "Обучил модель логистической регрессии и дамми модель для сравнения. Регрессия показала невысокий результат, но по крайней мере выше, чем дамми модель.",
      "metadata": {}
    },
    {
      "cell_type": "code",
      "source": "%%time\nbest_model = None\nbest_f1 = 0\nfor iter in range(5, 100):\n    model = LogisticRegression(max_iter = iter, random_state = 12345, solver = 'liblinear')\n    model.fit(features_train, target_train)\n    predictions = model.predict(features_valid)\n    if f1_score(target_valid, predictions) > best_f1:\n        best_f1 = f1_score(target_valid, predictions)\n        best_model = model\ndisplay('best_f1', best_f1)\ndisplay('best_model', best_model)\ndummy_model = DummyClassifier()\ndummy_model.fit(features_train, target_train)\ndummy_prediction = dummy_model.predict(features_valid)\ndisplay(f1_score(target_valid, dummy_prediction))",
      "metadata": {
        "scrolled": true
      },
      "execution_count": 28,
      "outputs": [
        {
          "name": "stderr",
          "output_type": "stream",
          "text": "/opt/conda/lib/python3.9/site-packages/sklearn/svm/_base.py:985: ConvergenceWarning: Liblinear failed to converge, increase the number of iterations.\n\n  warnings.warn(\"Liblinear failed to converge, increase \"\n\n/opt/conda/lib/python3.9/site-packages/sklearn/svm/_base.py:985: ConvergenceWarning: Liblinear failed to converge, increase the number of iterations.\n\n  warnings.warn(\"Liblinear failed to converge, increase \"\n\n/opt/conda/lib/python3.9/site-packages/sklearn/svm/_base.py:985: ConvergenceWarning: Liblinear failed to converge, increase the number of iterations.\n\n  warnings.warn(\"Liblinear failed to converge, increase \"\n\n/opt/conda/lib/python3.9/site-packages/sklearn/svm/_base.py:985: ConvergenceWarning: Liblinear failed to converge, increase the number of iterations.\n\n  warnings.warn(\"Liblinear failed to converge, increase \"\n\n/opt/conda/lib/python3.9/site-packages/sklearn/svm/_base.py:985: ConvergenceWarning: Liblinear failed to converge, increase the number of iterations.\n\n  warnings.warn(\"Liblinear failed to converge, increase \"\n\n/opt/conda/lib/python3.9/site-packages/sklearn/svm/_base.py:985: ConvergenceWarning: Liblinear failed to converge, increase the number of iterations.\n\n  warnings.warn(\"Liblinear failed to converge, increase \"\n\n/opt/conda/lib/python3.9/site-packages/sklearn/svm/_base.py:985: ConvergenceWarning: Liblinear failed to converge, increase the number of iterations.\n\n  warnings.warn(\"Liblinear failed to converge, increase \"\n\n/opt/conda/lib/python3.9/site-packages/sklearn/svm/_base.py:985: ConvergenceWarning: Liblinear failed to converge, increase the number of iterations.\n\n  warnings.warn(\"Liblinear failed to converge, increase \"\n\n/opt/conda/lib/python3.9/site-packages/sklearn/svm/_base.py:985: ConvergenceWarning: Liblinear failed to converge, increase the number of iterations.\n\n  warnings.warn(\"Liblinear failed to converge, increase \"\n\n/opt/conda/lib/python3.9/site-packages/sklearn/svm/_base.py:985: ConvergenceWarning: Liblinear failed to converge, increase the number of iterations.\n\n  warnings.warn(\"Liblinear failed to converge, increase \"\n\n/opt/conda/lib/python3.9/site-packages/sklearn/svm/_base.py:985: ConvergenceWarning: Liblinear failed to converge, increase the number of iterations.\n\n  warnings.warn(\"Liblinear failed to converge, increase \"\n\n/opt/conda/lib/python3.9/site-packages/sklearn/svm/_base.py:985: ConvergenceWarning: Liblinear failed to converge, increase the number of iterations.\n\n  warnings.warn(\"Liblinear failed to converge, increase \"\n\n/opt/conda/lib/python3.9/site-packages/sklearn/svm/_base.py:985: ConvergenceWarning: Liblinear failed to converge, increase the number of iterations.\n\n  warnings.warn(\"Liblinear failed to converge, increase \"\n\n/opt/conda/lib/python3.9/site-packages/sklearn/svm/_base.py:985: ConvergenceWarning: Liblinear failed to converge, increase the number of iterations.\n\n  warnings.warn(\"Liblinear failed to converge, increase \"\n\n/opt/conda/lib/python3.9/site-packages/sklearn/svm/_base.py:985: ConvergenceWarning: Liblinear failed to converge, increase the number of iterations.\n\n  warnings.warn(\"Liblinear failed to converge, increase \"\n\n/opt/conda/lib/python3.9/site-packages/sklearn/svm/_base.py:985: ConvergenceWarning: Liblinear failed to converge, increase the number of iterations.\n\n  warnings.warn(\"Liblinear failed to converge, increase \"\n\n/opt/conda/lib/python3.9/site-packages/sklearn/svm/_base.py:985: ConvergenceWarning: Liblinear failed to converge, increase the number of iterations.\n\n  warnings.warn(\"Liblinear failed to converge, increase \"\n"
        },
        {
          "output_type": "display_data",
          "data": {
            "text/plain": [
              "'best_f1'"
            ]
          },
          "metadata": {}
        },
        {
          "output_type": "display_data",
          "data": {
            "text/plain": [
              "0.07637231503579953"
            ]
          },
          "metadata": {}
        },
        {
          "output_type": "display_data",
          "data": {
            "text/plain": [
              "'best_model'"
            ]
          },
          "metadata": {}
        },
        {
          "output_type": "display_data",
          "data": {
            "text/plain": [
              "LogisticRegression(max_iter=19, random_state=12345, solver='liblinear')"
            ]
          },
          "metadata": {}
        },
        {
          "output_type": "display_data",
          "data": {
            "text/plain": [
              "0.0"
            ]
          },
          "metadata": {}
        },
        {
          "name": "stdout",
          "output_type": "stream",
          "text": "CPU times: user 8.91 s, sys: 9.37 s, total: 18.3 s\n\nWall time: 18.3 s\n"
        }
      ]
    },
    {
      "cell_type": "markdown",
      "source": "Можно сделать вывод, что модель плохо обучается из за дисбаланса классов, также возможно это не самая эффективная модель в данной задаче.",
      "metadata": {}
    },
    {
      "cell_type": "markdown",
      "source": "## Борьба с дисбалансом",
      "metadata": {}
    },
    {
      "cell_type": "markdown",
      "source": "Для начала попробовал уравновесить классы. Таким образом построил три различных модели: дерево решений, случайный лес и логистическую регрессию.",
      "metadata": {}
    },
    {
      "cell_type": "markdown",
      "source": "Дерево показало близкий к требуемому результат F1 метрики: 0.587. К сожалению, этого недостаточно.",
      "metadata": {}
    },
    {
      "cell_type": "code",
      "source": "best_btree_model = None\nbest_btree_f1 = 0\nfor depth in range(1,11):\n    for split in range(2, 5):\n        for leaf in range(1, 7):\n            btree_model = DecisionTreeClassifier(max_depth = depth, min_samples_split = split, min_samples_leaf = leaf, random_state = 12345, class_weight='balanced')\n            btree_model.fit(features_train, target_train)\n            btree_predictions = btree_model.predict(features_valid)\n            if f1_score(target_valid, btree_predictions) > best_btree_f1:\n                best_btree_f1 = f1_score(target_valid, btree_predictions)\n                best_btree_model = btree_model\ndisplay('best_btree_f1', best_btree_f1)\ndisplay('best_btree_model', best_btree_model)",
      "metadata": {
        "scrolled": true
      },
      "execution_count": 29,
      "outputs": [
        {
          "output_type": "display_data",
          "data": {
            "text/plain": [
              "'best_btree_f1'"
            ]
          },
          "metadata": {}
        },
        {
          "output_type": "display_data",
          "data": {
            "text/plain": [
              "0.5873015873015872"
            ]
          },
          "metadata": {}
        },
        {
          "output_type": "display_data",
          "data": {
            "text/plain": [
              "'best_btree_model'"
            ]
          },
          "metadata": {}
        },
        {
          "output_type": "display_data",
          "data": {
            "text/plain": [
              "DecisionTreeClassifier(class_weight='balanced', max_depth=6, min_samples_leaf=4,\n",
              "                       random_state=12345)"
            ]
          },
          "metadata": {}
        }
      ]
    },
    {
      "cell_type": "markdown",
      "source": "Случайный лес добился нужного результата: 0.665 показатель F1 метрики. (Код выполняется около 8 минут)",
      "metadata": {}
    },
    {
      "cell_type": "code",
      "source": "%%time\nbest_bforest_model = None\nbest_bforest_f1 = 0\nfor trees in range(10, 101, 10):\n    for depth in range(1, 16):\n        for split in range(2, 4):\n            for leaf in range(1, 7):\n                bforest_model = RandomForestClassifier(n_estimators = trees, max_depth = depth, min_samples_split = split, min_samples_leaf = leaf, random_state = 12345, class_weight='balanced')\n                bforest_model.fit(features_train, target_train)\n                bforest_predictions = bforest_model.predict(features_valid)\n                if f1_score(target_valid, bforest_predictions) > best_bforest_f1:\n                    best_bforest_f1 = f1_score(target_valid, bforest_predictions)\n                    best_bforest_model = bforest_model\ndisplay('best_bforest_f1', best_bforest_f1)\ndisplay('best_bforest_model', best_bforest_model)",
      "metadata": {},
      "execution_count": 30,
      "outputs": [
        {
          "output_type": "display_data",
          "data": {
            "text/plain": [
              "'best_bforest_f1'"
            ]
          },
          "metadata": {}
        },
        {
          "output_type": "display_data",
          "data": {
            "text/plain": [
              "0.6649484536082474"
            ]
          },
          "metadata": {}
        },
        {
          "output_type": "display_data",
          "data": {
            "text/plain": [
              "'best_bforest_model'"
            ]
          },
          "metadata": {}
        },
        {
          "output_type": "display_data",
          "data": {
            "text/plain": [
              "RandomForestClassifier(class_weight='balanced', max_depth=12,\n",
              "                       min_samples_leaf=6, n_estimators=50, random_state=12345)"
            ]
          },
          "metadata": {}
        },
        {
          "name": "stdout",
          "output_type": "stream",
          "text": "CPU times: user 6min 51s, sys: 3.57 s, total: 6min 55s\n\nWall time: 6min 55s\n"
        }
      ]
    },
    {
      "cell_type": "markdown",
      "source": "В качетсве альтернативного варианта борьбы с дисбалансом классов воспользовался методом upsampling. Посчитал downsampling неактуальным, данные урежутся слишком сильно.",
      "metadata": {}
    },
    {
      "cell_type": "code",
      "source": "features_zeroes = features_train[target_train == 0]\nfeatures_ones = features_train[target_train == 1]\ntarget_zeroes = target_train[target_train == 0]\ntarget_ones = target_train[target_train == 1]\nfeatures_train_upsampled = pd.concat([features_zeroes]+[features_ones]*4)\ntarget_train_upsampled = pd.concat([target_zeroes]+[target_ones]*4)\nfeatures_train_upsampled, target_train_upsampled = shuffle(features_train_upsampled, target_train_upsampled, random_state = 12345)",
      "metadata": {},
      "execution_count": 32,
      "outputs": []
    },
    {
      "cell_type": "markdown",
      "source": "Дерево решений с помощью метода upsampling не изменило результат.",
      "metadata": {}
    },
    {
      "cell_type": "code",
      "source": "best_upstree_model = None\nbest_upstree_f1 = 0\nfor depth in range(1,11):\n    for split in range(2, 5):\n        for leaf in range(1, 7):\n            upstree_model = DecisionTreeClassifier(max_depth = depth, min_samples_split = split, min_samples_leaf = leaf, random_state = 12345)\n            upstree_model.fit(features_train_upsampled, target_train_upsampled)\n            upstree_predictions = upstree_model.predict(features_valid)\n            if f1_score(target_valid, upstree_predictions) > best_upstree_f1:\n                best_upstree_f1 = f1_score(target_valid, upstree_predictions)\n                best_upstree_model = upstree_model\ndisplay('best_upstree_f1', best_btree_f1)\ndisplay('best_upstree_model', best_upstree_model)",
      "metadata": {
        "scrolled": true
      },
      "execution_count": 33,
      "outputs": [
        {
          "output_type": "display_data",
          "data": {
            "text/plain": [
              "'best_upstree_f1'"
            ]
          },
          "metadata": {}
        },
        {
          "output_type": "display_data",
          "data": {
            "text/plain": [
              "0.5873015873015872"
            ]
          },
          "metadata": {}
        },
        {
          "output_type": "display_data",
          "data": {
            "text/plain": [
              "'best_upstree_model'"
            ]
          },
          "metadata": {}
        },
        {
          "output_type": "display_data",
          "data": {
            "text/plain": [
              "DecisionTreeClassifier(max_depth=6, min_samples_leaf=4, random_state=12345)"
            ]
          },
          "metadata": {}
        }
      ]
    },
    {
      "cell_type": "markdown",
      "source": "Случайный лес с помощью метода upsampling показал достойный результат, но хуже, чем при помощи простого уравновешнивания классов: 0.655 показатель F1 метрики. (Код выполняется около 11 минут)",
      "metadata": {}
    },
    {
      "cell_type": "code",
      "source": "%%time\nbest_upsforest_model = None\nbest_upsforest_f1 = 0\nfor trees in range(10, 101, 10):\n    for depth in range(1, 16):\n        for split in range(2, 4):\n            for leaf in range(1, 7):\n                upsforest_model = RandomForestClassifier(n_estimators = trees, max_depth = depth, min_samples_split = split, min_samples_leaf = leaf, random_state = 12345)\n                upsforest_model.fit(features_train_upsampled, target_train_upsampled)\n                upsforest_predictions = upsforest_model.predict(features_valid)\n                if f1_score(target_valid, upsforest_predictions) > best_upsforest_f1:\n                    best_upsforest_f1 = f1_score(target_valid, upsforest_predictions)\n                    best_upsforest_model = upsforest_model\ndisplay('best_upsforest_f1', best_upsforest_f1)\ndisplay('best_upsforest_model', best_upsforest_model)",
      "metadata": {
        "scrolled": true
      },
      "execution_count": 34,
      "outputs": [
        {
          "output_type": "display_data",
          "data": {
            "text/plain": [
              "'best_upsforest_f1'"
            ]
          },
          "metadata": {}
        },
        {
          "output_type": "display_data",
          "data": {
            "text/plain": [
              "0.654891304347826"
            ]
          },
          "metadata": {}
        },
        {
          "output_type": "display_data",
          "data": {
            "text/plain": [
              "'best_upsforest_model'"
            ]
          },
          "metadata": {}
        },
        {
          "output_type": "display_data",
          "data": {
            "text/plain": [
              "RandomForestClassifier(max_depth=14, min_samples_split=3, n_estimators=30,\n",
              "                       random_state=12345)"
            ]
          },
          "metadata": {}
        },
        {
          "name": "stdout",
          "output_type": "stream",
          "text": "CPU times: user 9min 20s, sys: 3.04 s, total: 9min 23s\n\nWall time: 9min 23s\n"
        }
      ]
    },
    {
      "cell_type": "markdown",
      "source": "Логистическая регрессия также ухудшила результат F1 метрики: 0.463 (Код выполняется около 18 секунд)",
      "metadata": {}
    },
    {
      "cell_type": "code",
      "source": "%%time\nbest_upsregression_model = None\nbest_upsregression_f1 = 0\nfor iter in range(5, 100):\n    upsregression_model = LogisticRegression(max_iter = iter, random_state = 12345, solver = 'liblinear')\n    upsregression_model.fit(features_train_upsampled, target_train_upsampled)\n    upsregression_predictions = upsregression_model.predict(features_valid)\n    if f1_score(target_valid, upsregression_predictions) > best_upsregression_f1:\n        best_upsregression_f1 = f1_score(target_valid, upsregression_predictions)\n        best_upsregression_model = upsregression_model\ndisplay('best_upsregression_f1', best_upsregression_f1)\ndisplay('best_upsregression_model', best_upsregression_model)",
      "metadata": {
        "scrolled": true
      },
      "execution_count": 35,
      "outputs": [
        {
          "name": "stderr",
          "output_type": "stream",
          "text": "/opt/conda/lib/python3.9/site-packages/sklearn/svm/_base.py:985: ConvergenceWarning: Liblinear failed to converge, increase the number of iterations.\n\n  warnings.warn(\"Liblinear failed to converge, increase \"\n\n/opt/conda/lib/python3.9/site-packages/sklearn/svm/_base.py:985: ConvergenceWarning: Liblinear failed to converge, increase the number of iterations.\n\n  warnings.warn(\"Liblinear failed to converge, increase \"\n\n/opt/conda/lib/python3.9/site-packages/sklearn/svm/_base.py:985: ConvergenceWarning: Liblinear failed to converge, increase the number of iterations.\n\n  warnings.warn(\"Liblinear failed to converge, increase \"\n\n/opt/conda/lib/python3.9/site-packages/sklearn/svm/_base.py:985: ConvergenceWarning: Liblinear failed to converge, increase the number of iterations.\n\n  warnings.warn(\"Liblinear failed to converge, increase \"\n\n/opt/conda/lib/python3.9/site-packages/sklearn/svm/_base.py:985: ConvergenceWarning: Liblinear failed to converge, increase the number of iterations.\n\n  warnings.warn(\"Liblinear failed to converge, increase \"\n\n/opt/conda/lib/python3.9/site-packages/sklearn/svm/_base.py:985: ConvergenceWarning: Liblinear failed to converge, increase the number of iterations.\n\n  warnings.warn(\"Liblinear failed to converge, increase \"\n\n/opt/conda/lib/python3.9/site-packages/sklearn/svm/_base.py:985: ConvergenceWarning: Liblinear failed to converge, increase the number of iterations.\n\n  warnings.warn(\"Liblinear failed to converge, increase \"\n\n/opt/conda/lib/python3.9/site-packages/sklearn/svm/_base.py:985: ConvergenceWarning: Liblinear failed to converge, increase the number of iterations.\n\n  warnings.warn(\"Liblinear failed to converge, increase \"\n\n/opt/conda/lib/python3.9/site-packages/sklearn/svm/_base.py:985: ConvergenceWarning: Liblinear failed to converge, increase the number of iterations.\n\n  warnings.warn(\"Liblinear failed to converge, increase \"\n\n/opt/conda/lib/python3.9/site-packages/sklearn/svm/_base.py:985: ConvergenceWarning: Liblinear failed to converge, increase the number of iterations.\n\n  warnings.warn(\"Liblinear failed to converge, increase \"\n\n/opt/conda/lib/python3.9/site-packages/sklearn/svm/_base.py:985: ConvergenceWarning: Liblinear failed to converge, increase the number of iterations.\n\n  warnings.warn(\"Liblinear failed to converge, increase \"\n"
        },
        {
          "output_type": "display_data",
          "data": {
            "text/plain": [
              "'best_upsregression_f1'"
            ]
          },
          "metadata": {}
        },
        {
          "output_type": "display_data",
          "data": {
            "text/plain": [
              "0.46328671328671334"
            ]
          },
          "metadata": {}
        },
        {
          "output_type": "display_data",
          "data": {
            "text/plain": [
              "'best_upsregression_model'"
            ]
          },
          "metadata": {}
        },
        {
          "output_type": "display_data",
          "data": {
            "text/plain": [
              "LogisticRegression(max_iter=14, random_state=12345, solver='liblinear')"
            ]
          },
          "metadata": {}
        },
        {
          "name": "stdout",
          "output_type": "stream",
          "text": "CPU times: user 9.24 s, sys: 9.51 s, total: 18.7 s\n\nWall time: 18.7 s\n"
        }
      ]
    },
    {
      "cell_type": "markdown",
      "source": "Исследовав модели, лучше всех себя показал случайный лес с уравновешенными классами. Чтобы еще улучшить результат, попробовал изменить порог классификации. Оказалось что лучший результат достигается при пороге 0.51. F1 метрика 0.668\n\nПо показателю AUC-ROC можно понять, что модель гораздо лучше случайной.",
      "metadata": {}
    },
    {
      "cell_type": "code",
      "source": "model = best_bforest_model\nmodel.fit(features_train, target_train)\nprobabilities_valid = model.predict_proba(features_valid)\nprobabilities_one_valid = probabilities_valid[:, 1]\nbest_threshold = 0\nbest_f1 = 0\nfor threshold in np.arange(0, 1, 0.01):\n    predicted_valid = probabilities_one_valid > threshold\n    if f1_score(target_valid, predicted_valid) > best_f1:\n        best_f1 = f1_score(target_valid, predicted_valid)\n        best_threshold = threshold\ndisplay('best_f1', best_f1)\ndisplay('best_threshold', best_threshold)\ndisplay('AUC-ROC', roc_auc_score(target_valid, probabilities_one_valid))",
      "metadata": {},
      "execution_count": 36,
      "outputs": [
        {
          "output_type": "display_data",
          "data": {
            "text/plain": [
              "'best_f1'"
            ]
          },
          "metadata": {}
        },
        {
          "output_type": "display_data",
          "data": {
            "text/plain": [
              "0.6684005201560469"
            ]
          },
          "metadata": {}
        },
        {
          "output_type": "display_data",
          "data": {
            "text/plain": [
              "'best_threshold'"
            ]
          },
          "metadata": {}
        },
        {
          "output_type": "display_data",
          "data": {
            "text/plain": [
              "0.51"
            ]
          },
          "metadata": {}
        },
        {
          "output_type": "display_data",
          "data": {
            "text/plain": [
              "'AUC-ROC'"
            ]
          },
          "metadata": {}
        },
        {
          "output_type": "display_data",
          "data": {
            "text/plain": [
              "0.8732278140292119"
            ]
          },
          "metadata": {}
        }
      ]
    },
    {
      "cell_type": "markdown",
      "source": "Вывод:\n\nОбучил, используя в качестве борьбы с дисбалансом классов уравновешивание и метод upsampling по 3 модели: дерево решений, случайный лес и логистическую регрессию. \n\nМетод upsampling показал себя хуже, чем уравновешивание: результат оказался немного хуже.\n\nДерево решений и логистическая регрессия не дали приемлимого результата. Случайный лес оказался эффективнее.\n\nС помощью изменения порога классификации удалось еще немного улучшить показатель F1 метрики у случайного леса.",
      "metadata": {}
    },
    {
      "cell_type": "markdown",
      "source": "## Тестирование модели",
      "metadata": {}
    },
    {
      "cell_type": "markdown",
      "source": "На тестовой выборке модель показала себя немного хуже, но все еще удовлетворяет требованиям. Получили высокие показатели F1 меры и AUC-ROC меры.",
      "metadata": {}
    },
    {
      "cell_type": "code",
      "source": "features_train2 = pd.concat([features_train, features_valid])\ntarget_train2 = pd.concat([target_train, target_valid])\nmodel = best_bforest_model\nmodel.fit(features_train2, target_train2)\nprobabilities_test = model.predict_proba(features_test)\nprobabilities_one_test = probabilities_test[:, 1]\npredicted_test = probabilities_one_test > 0.51\ndisplay('Показатель F1 меры на тестовой выборке:',f1_score(target_test, predicted_test))\ndisplay('Показатель AUC-ROC метрики:', roc_auc_score(target_test, probabilities_one_test))",
      "metadata": {},
      "execution_count": 37,
      "outputs": [
        {
          "output_type": "display_data",
          "data": {
            "text/plain": [
              "'Показатель F1 меры на тестовой выборке:'"
            ]
          },
          "metadata": {}
        },
        {
          "output_type": "display_data",
          "data": {
            "text/plain": [
              "0.6203208556149733"
            ]
          },
          "metadata": {}
        },
        {
          "output_type": "display_data",
          "data": {
            "text/plain": [
              "'Показатель AUC-ROC метрики:'"
            ]
          },
          "metadata": {}
        },
        {
          "output_type": "display_data",
          "data": {
            "text/plain": [
              "0.8536842340397016"
            ]
          },
          "metadata": {}
        }
      ]
    },
    {
      "cell_type": "markdown",
      "source": "Конечный вывод:\n\n    - Начальные данные практически без пропусков, что позволило быстрее приступить к решению задачи.\n    \n    - Обучил модель без учета дисбаланса классов для сравнения с другими моделями. Такая модель показала крайне низкий результат.\n    \n    - Обучил 6 моделей. По 3 модели с использованием метода уравновешнивания дисбаланса классов и метода upsampling: Дерево решений, логистическую регрессию и случайный лес.\n    \n    -Лучше всего себя показал случайный лес. Для большего улучшения результата поэкспериментировал с пороговыми значениями классификации, нашел оптимальное.\n    \n    -Стояла задача достичь показателя 0.59 F1 меры. В конечном счете удалось достичь высоких результатов F1 и AUC-ROC метрик: F1 = 0.62, AUC-ROC = 0.85.",
      "metadata": {}
    }
  ]
}